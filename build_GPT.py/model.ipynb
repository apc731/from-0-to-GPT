{
 "cells": [
  {
   "cell_type": "code",
   "execution_count": null,
   "id": "58ff8de0",
   "metadata": {},
   "outputs": [],
   "source": []
  },
  {
   "cell_type": "code",
   "execution_count": null,
   "id": "b7e8f08e",
   "metadata": {},
   "outputs": [],
   "source": []
  },
  {
   "cell_type": "code",
   "execution_count": 1,
   "id": "d7480d24",
   "metadata": {},
   "outputs": [],
   "source": [
    "# 导入必要的库\n",
    "import torch\n",
    "import torch.nn as nn\n",
    "from torch.nn import functional as F\n",
    "from torch.utils.data import Dataset\n",
    "from torch.utils.data import DataLoader\n",
    "from dataclasses import dataclass"
   ]
  },
  {
   "cell_type": "markdown",
   "id": "681c7704",
   "metadata": {},
   "source": [
    "定义GPT参数"
   ]
  },
  {
   "cell_type": "code",
   "execution_count": null,
   "id": "66eb78df",
   "metadata": {},
   "outputs": [],
   "source": [
    "@dataclass\n",
    "class GPTConfig:\n",
    "    block_size: int = 1024#上下文长度\n",
    "    vocab_size: int = 50257\n",
    "    n_layer: int = 12#层数\n",
    "    n_head: int = 12#头数\n",
    "    n_embd: int = 768#嵌入维度\n",
    "    head_size: int = n_embd//n_head#每个头的维度\n",
    "    dropout: float = 0.1\n",
    "    head_dim:int=n_embd\n",
    "    mlp_dim:int=4*n_embd\n"
   ]
  },
  {
   "cell_type": "markdown",
   "id": "ef123d68",
   "metadata": {},
   "source": [
    "定义GPT结构"
   ]
  },
  {
   "cell_type": "markdown",
   "id": "e18cadd8",
   "metadata": {},
   "source": [
    "\n",
    "![这是GPT2的结构](./image.png)\n"
   ]
  },
  {
   "cell_type": "code",
   "execution_count": null,
   "id": "261a73a5",
   "metadata": {},
   "outputs": [],
   "source": [
    "#multi head attention\n",
    "class MultiHeadAttention(nn.Module):\n",
    "    def __init__(self,config):\n",
    "        super().__init__()\n",
    "        self.head_size=config.head_size\n",
    "        self.dropout=nn.Dropout(config.dropout)\n",
    "        self.qkv=nn.Linear(config.n_embd,config.head_dim*3)\n",
    "        self.n_head = config.n_head # 头数\n",
    "        self.register_buffer('attention_mask',torch.tril(torch.ones(config.block_size,config.block_size)).view(1,1,config.block_size,config.block_size)) \n",
    "        self.proj=nn.Linear(self.head_dim,self.head_dim)      \n",
    "    def forward(self,x):\n",
    "        B,T,C=x.size()#B:batch_size,T:sequence_length,C:channel_size or head_dim\n",
    "        qkv=self.qkv(x)\n",
    "        q,k,v=qkv.chunk(3,dim=-1)\n",
    "        q=q.view(B,T,self.n_head,self.head_size).transpose(1,2)\n",
    "        k=k.view(B,T,self.n_head,self.head_size).transpose(1,2)#B,n_head,T,head_size\n",
    "        v=v.view(B,T,self.n_head,self.head_size).transpose(1,2)\n",
    "        #注意力分数\n",
    "        attn_scores=q@k.transpose(-2,-1)/(self.head_size**0.5)#B,n_head,T,T\n",
    "        #注意力权重\n",
    "        weights=attn_scores.masked_fill(self.attention_mask[:,:,:T,:T]==0,float('-inf'))\n",
    "        weights=weights.softmax(dim=-1)#B,n_head,T,T\n",
    "        weights=self.dropout(weights)#dropout需要放在softmax后面 \n",
    "        #注意力输出\n",
    "        attn_output=weights@v#B,n_head,T,head_size\n",
    "        attn_output=attn_output.transpose(1,2).contiguous().view(B,T,self.head_dim)\n",
    "        #过投影层\n",
    "        attn_output=self.proj(attn_output)#B,T,head_dim\n",
    "        attn_output=self.dropout(attn_output)\n"
   ]
  },
  {
   "cell_type": "markdown",
   "id": "c5be6aab",
   "metadata": {},
   "source": [
    "MLP层"
   ]
  },
  {
   "cell_type": "code",
   "execution_count": null,
   "id": "280f8a3c",
   "metadata": {},
   "outputs": [],
   "source": [
    "class MLP(nn.Module):\n",
    "    def __init__(self,config):\n",
    "        super().__init__()\n",
    "        self.net=nn.Sequential(\n",
    "            nn.Linear(config.head_dim,config.mlp_dim),\n",
    "            nn.GELU(),\n",
    "            nn.Linear(config.mlp_dim,config.head_dim),\n",
    "            nn.Dropout(config.dropout)\n",
    "        )\n",
    "    def forward(self,x):\n",
    "        return self.net(x)"
   ]
  },
  {
   "cell_type": "markdown",
   "id": "645cc418",
   "metadata": {},
   "source": [
    "block块"
   ]
  },
  {
   "cell_type": "code",
   "execution_count": null,
   "id": "19230805",
   "metadata": {},
   "outputs": [
    {
     "ename": "IndentationError",
     "evalue": "expected an indented block (1450040370.py, line 1)",
     "output_type": "error",
     "traceback": [
      "\u001b[1;36m  File \u001b[1;32m\"C:\\Users\\86184\\AppData\\Local\\Temp\\ipykernel_6340\\1450040370.py\"\u001b[1;36m, line \u001b[1;32m1\u001b[0m\n\u001b[1;33m    class Block(nn.Module):\u001b[0m\n\u001b[1;37m                           ^\u001b[0m\n\u001b[1;31mIndentationError\u001b[0m\u001b[1;31m:\u001b[0m expected an indented block\n"
     ]
    }
   ],
   "source": [
    "class Block(nn.Module):\n",
    "    def __init__(self,config):\n",
    "        super().__init__()\n",
    "        self.ln_1=nn.LayerNorm(config.head_dim)\n",
    "        self.attn=MultiHeadAttention(config)\n",
    "        self.ln_2=nn.LayerNorm(config.head_dim)\n",
    "        self.mlp=MLP(config)\n",
    "    def forward(self,x):\n",
    "        attn_output=self.attn(self.ln_1(x))\n",
    "        x=x+attn_output\n",
    "        x=self.ln_2(x)\n",
    "        mlp_output=self.mlp(x)\n",
    "        x=x+mlp_output\n",
    "        return x"
   ]
  },
  {
   "cell_type": "markdown",
   "id": "fdc1568d",
   "metadata": {},
   "source": [
    "GPT整体实现"
   ]
  },
  {
   "cell_type": "code",
   "execution_count": null,
   "id": "5d7a237a",
   "metadata": {},
   "outputs": [],
   "source": [
    "class GPT(nn.Module):\n",
    "    def __init__(self,config):\n",
    "        super().__init__()\n",
    "        self.config=config\n",
    "        self.token_embedding=nn.Embedding(config.vocab_size,config.n_embd)\n",
    "        self.position_embedding=nn.Embedding(config.block_size,config.n_embd)\n",
    "        self.dropout=nn.Dropout(config.dropout)\n",
    "        self.blocks=nn.ModuleList([Block(config) for _ in range(config.n_layer)])\n",
    "        self.ln_f=nn.LayerNorm(config.n_embd)\n",
    "        self.lm_head=nn.Linear(config.n_embd,config.vocab_size,bias=False)\n",
    "        self.lm_head.weight=self.token_embedding.weight\n",
    "    \n",
    "    def _init_weights(self,module):\n",
    "        if isinstance(module,nn.Linear):\n",
    "            torch.nn.init.normal_(module.weight,mean=0.0,std=0.02)\n",
    "            if module.bias is not None:\n",
    "                torch.nn.init.zeros_(module.bias)\n",
    "        elif isinstance(module,nn.Embedding):\n",
    "            torch.nn.init.normal_(module.weight,mean=0.0,std=0.02)\n",
    "    \n",
    "    def forward(self,idx,targets=None):\n",
    "        B,T=idx.size()\n",
    "        #token_embedding\n",
    "        token_embedding=self.token_embedding(idx)#B,T,n_embd\n",
    "        #position_embedding\n",
    "        position_embedding=self.position_embedding(torch.arange(T,device=idx.device))#T,n_embd\n",
    "        #embedding\n",
    "        x=self.dropout(token_embedding+position_embedding)#B,T,n_embd\n",
    "        #blocks\n",
    "        for block in self.blocks:\n",
    "            x=block(x)#B,T,n_embd\n",
    "        #ln_f\n",
    "        x=self.ln_f(x)#B,T,n_embd\n",
    "        #head\n",
    "        logits=self.lm_head(x)#B,T,vocab_size\n",
    "        #loss\n",
    "        if targets is not None:\n",
    "            loss=F.cross_entropy(logits.view(-1,logits.size(-1)),targets.view(-1))\n",
    "        else:\n",
    "            loss=None\n",
    "\n",
    "        return logits,loss\n"
   ]
  }
 ],
 "metadata": {
  "kernelspec": {
   "display_name": "Python 3",
   "language": "python",
   "name": "python3"
  },
  "language_info": {
   "codemirror_mode": {
    "name": "ipython",
    "version": 3
   },
   "file_extension": ".py",
   "mimetype": "text/x-python",
   "name": "python",
   "nbconvert_exporter": "python",
   "pygments_lexer": "ipython3",
   "version": "3.9.21"
  }
 },
 "nbformat": 4,
 "nbformat_minor": 5
}
